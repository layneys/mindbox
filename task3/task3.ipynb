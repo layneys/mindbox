{
 "cells": [
  {
   "cell_type": "code",
   "execution_count": 2,
   "id": "45879549-0b32-4ea4-b700-f525817fbe8f",
   "metadata": {},
   "outputs": [
    {
     "name": "stdout",
     "output_type": "stream",
     "text": [
      "+--------------------+--------------------+\n",
      "|            products|          categories|\n",
      "+--------------------+--------------------+\n",
      "|          [Product1]|[Category1, Categ...|\n",
      "|          [Product2]|         [Category1]|\n",
      "|          [Product3]|                NULL|\n",
      "|[Product4, Product5]|         [Category3]|\n",
      "|                NULL|         [Category6]|\n",
      "|[Product7, Product8]|                NULL|\n",
      "+--------------------+--------------------+\n",
      "\n"
     ]
    }
   ],
   "source": [
    "from pyspark.sql import SparkSession\n",
    "from pyspark.sql.functions import explode_outer,explode, posexplode, posexplode_outer\n",
    "spark = SparkSession.builder \\\n",
    "    .appName(\"ProductCategoryPairs\") \\\n",
    "    .getOrCreate()\n",
    "'''\n",
    "Датафрейм в качестве примера.\n",
    "Ранее с pySpark работать не доводилось, так что не обязуюсь сказать, что решение идеально.\n",
    "'''\n",
    "data = [([\"Product1\"], [\"Category1\", \"Category2\"]),\n",
    "        ([\"Product2\"], [\"Category1\"]),\n",
    "        ([\"Product3\"], None),\n",
    "        ([\"Product4\", \"Product5\"], [\"Category3\"]),\n",
    "        (None, [\"Category6\"]),\n",
    "       ([\"Product7\", \"Product8\"], None),]\n",
    "schema = [\"products\", \"categories\"]\n",
    "dataframe = spark.createDataFrame(data, schema)\n",
    "dataframe.show()\n"
   ]
  },
  {
   "cell_type": "code",
   "execution_count": 3,
   "id": "483d97a2-5656-4e14-8919-5436aaa173e9",
   "metadata": {},
   "outputs": [],
   "source": [
    "def get_pairs_df(df):\n",
    "    df_exploded1 = df.select('categories', explode(\"products\").alias(\"product\"))\n",
    "    df_exploded2 = df_exploded1.select('product', explode_outer(\"categories\").alias(\"category\"))\n",
    "    return df_exploded2"
   ]
  },
  {
   "cell_type": "code",
   "execution_count": 4,
   "id": "374c2e80-3c58-40cb-bae9-81f56e174939",
   "metadata": {},
   "outputs": [
    {
     "name": "stdout",
     "output_type": "stream",
     "text": [
      "+--------+---------+\n",
      "| product| category|\n",
      "+--------+---------+\n",
      "|Product1|Category1|\n",
      "|Product1|Category2|\n",
      "|Product2|Category1|\n",
      "|Product3|     NULL|\n",
      "|Product4|Category3|\n",
      "|Product5|Category3|\n",
      "|Product7|     NULL|\n",
      "|Product8|     NULL|\n",
      "+--------+---------+\n",
      "\n"
     ]
    }
   ],
   "source": [
    "pairs_df=get_pairs_df(dataframe)\n",
    "pairs_df.show()"
   ]
  }
 ],
 "metadata": {
  "kernelspec": {
   "display_name": "Python 3 (ipykernel)",
   "language": "python",
   "name": "python3"
  },
  "language_info": {
   "codemirror_mode": {
    "name": "ipython",
    "version": 3
   },
   "file_extension": ".py",
   "mimetype": "text/x-python",
   "name": "python",
   "nbconvert_exporter": "python",
   "pygments_lexer": "ipython3",
   "version": "3.11.7"
  }
 },
 "nbformat": 4,
 "nbformat_minor": 5
}
